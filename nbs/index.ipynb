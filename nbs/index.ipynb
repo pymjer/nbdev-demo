{
 "cells": [
  {
   "cell_type": "code",
   "execution_count": null,
   "metadata": {},
   "outputs": [],
   "source": [
    "#| hide\n",
    "from nbdev_demo.core import *"
   ]
  },
  {
   "attachments": {},
   "cell_type": "markdown",
   "metadata": {},
   "source": [
    "# nbdev-demo\n",
    "\n",
    "> hello world with nbdev"
   ]
  },
  {
   "attachments": {},
   "cell_type": "markdown",
   "metadata": {},
   "source": [
    "This file will become your README and also the index of your documentation."
   ]
  },
  {
   "attachments": {},
   "cell_type": "markdown",
   "metadata": {},
   "source": [
    "## Install"
   ]
  },
  {
   "attachments": {},
   "cell_type": "markdown",
   "metadata": {},
   "source": [
    "```sh\n",
    "pip install nbdev_demo\n",
    "```"
   ]
  },
  {
   "attachments": {},
   "cell_type": "markdown",
   "metadata": {},
   "source": [
    "## How to use\n",
    "[参见: nbdev Get Started](https://nbdev.fast.ai/tutorials/tutorial.html)"
   ]
  },
  {
   "attachments": {},
   "cell_type": "markdown",
   "metadata": {},
   "source": [
    "### 初始化Repo\n",
    "使用如下命令初始化\n",
    "```sh\n",
    "nbdev_new\n",
    "```\n",
    "\n",
    "### 启用GitHub Pages\n",
    "在Settings Tabl找到 Pages, 在Branch中设置 `gh-pages`\n",
    "\n",
    "### 安装 git-friendly notebooks\n",
    "```\n",
    "nbdev_install_hooks\n",
    "```\n",
    "\n",
    "### 导出与安装\n",
    "使用如下命令导出包\n",
    "```\n",
    "nbdev_export\n",
    "```\n",
    "安装包\n",
    "```\n",
    "pip install -e '.[dev]'\n",
    "```\n",
    "\n",
    "### 预览\n",
    "输入如下命令, 打开URL\n",
    "```\n",
    "nbdev_preview\n",
    "```\n"
   ]
  }
 ],
 "metadata": {
  "kernelspec": {
   "display_name": "python3",
   "language": "python",
   "name": "python3"
  }
 },
 "nbformat": 4,
 "nbformat_minor": 4
}
